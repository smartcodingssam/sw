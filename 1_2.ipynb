{
  "nbformat": 4,
  "nbformat_minor": 0,
  "metadata": {
    "colab": {
      "name": "1-2.ipynb",
      "provenance": [],
      "collapsed_sections": [],
      "authorship_tag": "ABX9TyNz2rbqjhHp9XBxJxYNHSVb",
      "include_colab_link": true
    },
    "kernelspec": {
      "name": "python3",
      "display_name": "Python 3"
    },
    "language_info": {
      "name": "python"
    }
  },
  "cells": [
    {
      "cell_type": "markdown",
      "metadata": {
        "id": "view-in-github",
        "colab_type": "text"
      },
      "source": [
        "<a href=\"https://colab.research.google.com/github/smartcodingssam/sw/blob/main/1_2.ipynb\" target=\"_parent\"><img src=\"https://colab.research.google.com/assets/colab-badge.svg\" alt=\"Open In Colab\"/></a>"
      ]
    },
    {
      "cell_type": "markdown",
      "metadata": {
        "id": "PjghLtZEt69V"
      },
      "source": [
        "**데이터 타입**\n",
        "*   정수형   int\n",
        "*   실수형   float\n",
        "*   문자열형 str\n",
        "*   부울형   bool : True, False\n",
        "\n"
      ]
    },
    {
      "cell_type": "code",
      "metadata": {
        "colab": {
          "base_uri": "https://localhost:8080/"
        },
        "id": "859n7Gquo4pR",
        "outputId": "1fa41990-8038-4b5c-9797-d1a735c5e493"
      },
      "source": [
        "a = 19\n",
        "b = 3.1415\n",
        "c = \"hello\"\n",
        "d = True\n",
        "print(a, b, c, d)\n",
        "print(3>4)"
      ],
      "execution_count": 4,
      "outputs": [
        {
          "output_type": "stream",
          "text": [
            "19 3.1415 hello True\n",
            "False\n"
          ],
          "name": "stdout"
        }
      ]
    },
    {
      "cell_type": "markdown",
      "metadata": {
        "id": "F6W9LqH2o6wc"
      },
      "source": [
        "**input**"
      ]
    },
    {
      "cell_type": "code",
      "metadata": {
        "id": "M1O0RAOLl4ZI"
      },
      "source": [
        "print(\"파이썬의 세계에 오신 것을 환영합니다.\")\n",
        "name = input(\"이름을 입력하세요 : \")\n",
        "school = input(\"학교를 입력하세요 :\")\n",
        "\n",
        "print(school + \"의 \" + name +\"님, 반갑습니다.\")\n",
        "print(\"화이팅!\")"
      ],
      "execution_count": null,
      "outputs": []
    },
    {
      "cell_type": "markdown",
      "metadata": {
        "id": "MnAigKsQvWHl"
      },
      "source": [
        "**계산기**"
      ]
    },
    {
      "cell_type": "code",
      "metadata": {
        "colab": {
          "base_uri": "https://localhost:8080/"
        },
        "id": "WgQ8XJZZvVo3",
        "outputId": "3700d414-6b2d-4fe5-acda-878cf04d6411"
      },
      "source": [
        "first = input(\"첫번째 숫자 입력 : \")\n",
        "second = input(\"두번째 숫자 입력 : \")\n",
        "print(\"두수의 합 : \" , first + second) #수정필요"
      ],
      "execution_count": 1,
      "outputs": [
        {
          "output_type": "stream",
          "text": [
            "첫번째 숫자 입력 : 5\n",
            "두번째 숫자 입력 : 6\n",
            "두수의 합 :  56\n"
          ],
          "name": "stdout"
        }
      ]
    },
    {
      "cell_type": "markdown",
      "metadata": {
        "id": "QYkPo57H21Ir"
      },
      "source": [
        "**문자열 인덱싱**"
      ]
    },
    {
      "cell_type": "code",
      "metadata": {
        "colab": {
          "base_uri": "https://localhost:8080/",
          "height": 239
        },
        "id": "49YQYT7U3DE1",
        "outputId": "5413cf28-3a67-4d72-aa0f-a5eb176ac5d6"
      },
      "source": [
        "a = \"python\"\n",
        "print(a[0])\n",
        "print(a[1])\n",
        "print(a[5])\n",
        "print(a[6])  # 결과는?"
      ],
      "execution_count": 3,
      "outputs": [
        {
          "output_type": "stream",
          "text": [
            "p\n",
            "y\n"
          ],
          "name": "stdout"
        },
        {
          "output_type": "error",
          "ename": "IndexError",
          "evalue": "ignored",
          "traceback": [
            "\u001b[0;31m---------------------------------------------------------------------------\u001b[0m",
            "\u001b[0;31mIndexError\u001b[0m                                Traceback (most recent call last)",
            "\u001b[0;32m<ipython-input-3-adc2d950abde>\u001b[0m in \u001b[0;36m<module>\u001b[0;34m()\u001b[0m\n\u001b[1;32m      2\u001b[0m \u001b[0mprint\u001b[0m\u001b[0;34m(\u001b[0m\u001b[0ma\u001b[0m\u001b[0;34m[\u001b[0m\u001b[0;36m0\u001b[0m\u001b[0;34m]\u001b[0m\u001b[0;34m)\u001b[0m\u001b[0;34m\u001b[0m\u001b[0;34m\u001b[0m\u001b[0m\n\u001b[1;32m      3\u001b[0m \u001b[0mprint\u001b[0m\u001b[0;34m(\u001b[0m\u001b[0ma\u001b[0m\u001b[0;34m[\u001b[0m\u001b[0;36m1\u001b[0m\u001b[0;34m]\u001b[0m\u001b[0;34m)\u001b[0m\u001b[0;34m\u001b[0m\u001b[0;34m\u001b[0m\u001b[0m\n\u001b[0;32m----> 4\u001b[0;31m \u001b[0mprint\u001b[0m\u001b[0;34m(\u001b[0m\u001b[0ma\u001b[0m\u001b[0;34m[\u001b[0m\u001b[0;36m6\u001b[0m\u001b[0;34m]\u001b[0m\u001b[0;34m)\u001b[0m\u001b[0;34m\u001b[0m\u001b[0;34m\u001b[0m\u001b[0m\n\u001b[0m",
            "\u001b[0;31mIndexError\u001b[0m: string index out of range"
          ]
        }
      ]
    },
    {
      "cell_type": "code",
      "metadata": {
        "colab": {
          "base_uri": "https://localhost:8080/"
        },
        "id": "4bZUptz33TlT",
        "outputId": "6e7312cb-1443-41c4-d828-cfb899082ffb"
      },
      "source": [
        "print(a[0])\n",
        "print(a[0:3])\n",
        "print(a[-1])"
      ],
      "execution_count": 11,
      "outputs": [
        {
          "output_type": "stream",
          "text": [
            "p\n",
            "pyt\n",
            "n\n"
          ],
          "name": "stdout"
        }
      ]
    },
    {
      "cell_type": "code",
      "metadata": {
        "colab": {
          "base_uri": "https://localhost:8080/"
        },
        "id": "wgI-pBgj4gus",
        "outputId": "d8fec80b-e490-403a-d435-c0ef452def21"
      },
      "source": [
        "birthday = \"20070501\"\n",
        "year = birthday[:]  #년도\n",
        "month = birthday[:] #월\n",
        "date = birthday[:]  #일\n",
        "print(year, month, date)"
      ],
      "execution_count": 14,
      "outputs": [
        {
          "output_type": "stream",
          "text": [
            "20070501 20070501 20070501\n"
          ],
          "name": "stdout"
        }
      ]
    },
    {
      "cell_type": "code",
      "metadata": {
        "id": "p1VXo22d58Nt"
      },
      "source": [
        ""
      ],
      "execution_count": null,
      "outputs": []
    }
  ]
}