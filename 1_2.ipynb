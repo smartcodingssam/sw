{
  "nbformat": 4,
  "nbformat_minor": 0,
  "metadata": {
    "colab": {
      "name": "1-2.ipynb",
      "provenance": [],
      "collapsed_sections": [],
      "authorship_tag": "ABX9TyMHoKTpxhV2dCZs13pJDTIy",
      "include_colab_link": true
    },
    "kernelspec": {
      "name": "python3",
      "display_name": "Python 3"
    },
    "language_info": {
      "name": "python"
    }
  },
  "cells": [
    {
      "cell_type": "markdown",
      "metadata": {
        "id": "view-in-github",
        "colab_type": "text"
      },
      "source": [
        "<a href=\"https://colab.research.google.com/github/smartcodingssam/sw/blob/main/1_2.ipynb\" target=\"_parent\"><img src=\"https://colab.research.google.com/assets/colab-badge.svg\" alt=\"Open In Colab\"/></a>"
      ]
    },
    {
      "cell_type": "markdown",
      "metadata": {
        "id": "PjghLtZEt69V"
      },
      "source": [
        "**데이터 타입**\n",
        "*   정수형   int\n",
        "*   실수형   float\n",
        "*   문자열형 str\n",
        "*   부울형   bool : True, False\n",
        "\n"
      ]
    },
    {
      "cell_type": "code",
      "metadata": {
        "id": "859n7Gquo4pR"
      },
      "source": [
        "a = 19\n",
        "b = 3.1415\n",
        "c = \"hello\"\n",
        "d = True\n",
        "print(a, b, c, d)\n",
        "print(3>4)"
      ],
      "execution_count": null,
      "outputs": []
    },
    {
      "cell_type": "markdown",
      "metadata": {
        "id": "F6W9LqH2o6wc"
      },
      "source": [
        "**input**"
      ]
    },
    {
      "cell_type": "code",
      "metadata": {
        "id": "M1O0RAOLl4ZI"
      },
      "source": [
        "print(\"파이썬의 세계에 오신 것을 환영합니다.\")\n",
        "name = input(\"이름을 입력하세요 : \")\n",
        "school = input(\"학교를 입력하세요 :\")\n",
        "\n",
        "print(school + \"의 \" + name +\"님, 반갑습니다.\")\n",
        "print(\"화이팅!\")"
      ],
      "execution_count": null,
      "outputs": []
    },
    {
      "cell_type": "markdown",
      "metadata": {
        "id": "MnAigKsQvWHl"
      },
      "source": [
        "**계산기**"
      ]
    },
    {
      "cell_type": "code",
      "metadata": {
        "id": "WgQ8XJZZvVo3"
      },
      "source": [
        "first = input(\"첫번째 숫자 입력 : \")\n",
        "second = input(\"두번째 숫자 입력 : \")\n",
        "print(\"두수의 합 : \" , first + second) #수정필요"
      ],
      "execution_count": null,
      "outputs": []
    },
    {
      "cell_type": "markdown",
      "metadata": {
        "id": "QYkPo57H21Ir"
      },
      "source": [
        "**문자열 인덱싱**"
      ]
    },
    {
      "cell_type": "code",
      "metadata": {
        "id": "49YQYT7U3DE1"
      },
      "source": [
        "a = \"python\"\n",
        "print(a[0])\n",
        "print(a[1])\n",
        "print(a[5])\n",
        "print(a[6])  # 결과는?"
      ],
      "execution_count": null,
      "outputs": []
    },
    {
      "cell_type": "code",
      "metadata": {
        "id": "4bZUptz33TlT"
      },
      "source": [
        "print(a[0])\n",
        "print(a[0:3])\n",
        "print(a[-1])"
      ],
      "execution_count": null,
      "outputs": []
    },
    {
      "cell_type": "code",
      "metadata": {
        "id": "wgI-pBgj4gus"
      },
      "source": [
        "birthday = \"20070501\"\n",
        "year = birthday[:]  #년도\n",
        "month = birthday[:] #월\n",
        "date = birthday[:]  #일\n",
        "print(year, month, date)"
      ],
      "execution_count": null,
      "outputs": []
    }
  ]
}